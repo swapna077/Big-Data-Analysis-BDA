{
 "cells": [
  {
   "cell_type": "code",
   "execution_count": 1,
   "id": "d0eaeb3f-d708-47fa-873c-55f1b0f09f6f",
   "metadata": {},
   "outputs": [
    {
     "data": {
      "text/html": [
       "\n",
       "        <div>\n",
       "            <p><b>SparkContext</b></p>\n",
       "\n",
       "            <p><a href=\"http://LAPTOP-GFGBQ05O:4041\">Spark UI</a></p>\n",
       "\n",
       "            <dl>\n",
       "              <dt>Version</dt>\n",
       "                <dd><code>v3.5.6</code></dd>\n",
       "              <dt>Master</dt>\n",
       "                <dd><code>local[*]</code></dd>\n",
       "              <dt>AppName</dt>\n",
       "                <dd><code>PySparkShell</code></dd>\n",
       "            </dl>\n",
       "        </div>\n",
       "        "
      ],
      "text/plain": [
       "<SparkContext master=local[*] appName=PySparkShell>"
      ]
     },
     "execution_count": 1,
     "metadata": {},
     "output_type": "execute_result"
    }
   ],
   "source": [
    "sc\n"
   ]
  },
  {
   "cell_type": "code",
   "execution_count": 2,
   "id": "baf79c65-15f3-4f71-a59f-2812ce5e2e05",
   "metadata": {},
   "outputs": [],
   "source": [
    "import random"
   ]
  },
  {
   "cell_type": "code",
   "execution_count": 3,
   "id": "181af61d-275d-4d76-a651-d45c9a37ad99",
   "metadata": {},
   "outputs": [
    {
     "name": "stdout",
     "output_type": "stream",
     "text": [
      "Original List:\n",
      "[306, 530, 938, 256, 879, 797, 189, 856, 94, 801, 57, 337, 179, 580, 684, 330, 915, 368, 642, 472, 477, 440, 258, 675, 787, 110, 627, 85, 108, 899, 562, 956, 246, 479, 673, 960, 395, 207, 370, 907, 71, 806, 341, 354, 806, 110, 42, 427, 856, 855, 528, 223, 304, 797, 293, 129, 67, 605, 429, 6, 523, 419, 283, 572, 720, 719, 484, 238, 95, 953, 616, 968, 649, 463, 110, 394, 749, 253, 851, 400, 120, 488, 639, 766, 351, 247, 967, 836, 801, 807, 648, 161, 188, 38, 108, 298, 616, 614, 964, 312]\n",
      "\n",
      "Even Numbers:\n",
      "[306, 530, 938, 256, 856, 94, 580, 684, 330, 368, 642, 472, 440, 258, 110, 108, 562, 956, 246, 960, 370, 806, 354, 806, 110, 42, 856, 528, 304, 6, 572, 720, 484, 238, 616, 968, 110, 394, 400, 120, 488, 766, 836, 648, 188, 38, 108, 298, 616, 614, 964, 312]\n"
     ]
    }
   ],
   "source": [
    "from pyspark import SparkContext, SparkConf\n",
    "\n",
    "# Initialize Spark (if not already done)\n",
    "conf = SparkConf().setAppName(\"EvenNumbers\").setMaster(\"local[*]\")\n",
    "sc = SparkContext.getOrCreate(conf)\n",
    "\n",
    "# Generate random numbers\n",
    "random_numbers = [random.randint(1, 1000) for _ in range(100)]\n",
    "print(\"Original List:\")\n",
    "print(random_numbers)\n",
    "\n",
    "# Parallelize into RDD\n",
    "numbers_rdd = sc.parallelize(random_numbers)\n",
    "\n",
    "# Filter even numbers\n",
    "even_numbers_rdd = numbers_rdd.filter(lambda x: x % 2 == 0)\n",
    "even_numbers = even_numbers_rdd.collect()\n",
    "\n",
    "print(\"\\nEven Numbers:\")\n",
    "print(even_numbers)"
   ]
  },
  {
   "cell_type": "code",
   "execution_count": null,
   "id": "35a4a4b9-8924-4f88-bf10-3c3b4bb7ab3e",
   "metadata": {},
   "outputs": [],
   "source": []
  }
 ],
 "metadata": {
  "kernelspec": {
   "display_name": "Python 3.11 (py311)",
   "language": "python",
   "name": "py311"
  },
  "language_info": {
   "codemirror_mode": {
    "name": "ipython",
    "version": 3
   },
   "file_extension": ".py",
   "mimetype": "text/x-python",
   "name": "python",
   "nbconvert_exporter": "python",
   "pygments_lexer": "ipython3",
   "version": "3.11.4"
  }
 },
 "nbformat": 4,
 "nbformat_minor": 5
}
